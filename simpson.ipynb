{
  "nbformat": 4,
  "nbformat_minor": 0,
  "metadata": {
    "colab": {
      "provenance": [],
      "authorship_tag": "ABX9TyO0HtxGPwlRiOCq7VjIsZah",
      "include_colab_link": true
    },
    "kernelspec": {
      "name": "python3",
      "display_name": "Python 3"
    },
    "language_info": {
      "name": "python"
    }
  },
  "cells": [
    {
      "cell_type": "markdown",
      "metadata": {
        "id": "view-in-github",
        "colab_type": "text"
      },
      "source": [
        "<a href=\"https://colab.research.google.com/github/JustinJaniszewski/23-Homework6G1/blob/patch1/simpson.ipynb\" target=\"_parent\"><img src=\"https://colab.research.google.com/assets/colab-badge.svg\" alt=\"Open In Colab\"/></a>"
      ]
    },
    {
      "cell_type": "code",
      "execution_count": 9,
      "metadata": {
        "id": "40DOEOHIlAJN"
      },
      "outputs": [],
      "source": [
        "import calculus as calc\n",
        "import matplotlib.pyplot as plt\n",
        "import numpy as np"
      ]
    },
    {
      "cell_type": "code",
      "source": [
        "# integral of exp(-1/x)\n",
        "\n",
        "GROUP_NUMBER = 1 # specifing our group number\n",
        "\n",
        "# defining our functions\n",
        "def exp_func(x):\n",
        "  return np.exp(-1 / np.where(np.isclose(x, 0), 1e-8, x))\n",
        "\n",
        "def cos_func(x):\n",
        "  return np.cos(1 / np.where(np.isclose(x, 0), 1e-8, x))\n",
        "\n",
        "def cube_func(x):\n",
        "  return x**3 + 1 / GROUP_NUMBER"
      ],
      "metadata": {
        "id": "FR3c_SMll4ZU"
      },
      "execution_count": 20,
      "outputs": []
    },
    {
      "cell_type": "code",
      "source": [
        "lower_bound = 0\n",
        "upper_bound = 10*GROUP_NUMBER\n",
        "x_vals = np.linspace(lower_bound, upper_bound, 100)\n",
        "y_vals = exp_func(x_vals)\n",
        "plt.plot(x_vals,y_vals)\n",
        "plt.fill_between(x_vals, y_vals)\n",
        "plt.title(\"Integral of e^(-1/x)\")\n",
        "plt.xlabel('x values')\n",
        "plt.ylabel('y values')"
      ],
      "metadata": {
        "id": "qjnFS8EvoEC7",
        "colab": {
          "base_uri": "https://localhost:8080/",
          "height": 489
        },
        "outputId": "2f54cd2f-e521-4499-f60c-7bfa07f55674"
      },
      "execution_count": 30,
      "outputs": [
        {
          "output_type": "execute_result",
          "data": {
            "text/plain": [
              "Text(0, 0.5, 'y values')"
            ]
          },
          "metadata": {},
          "execution_count": 30
        },
        {
          "output_type": "display_data",
          "data": {
            "text/plain": [
              "<Figure size 640x480 with 1 Axes>"
            ],
            "image/png": "[encoded data removed]"
          },
          "metadata": {}
        }
      ]
    },
    {
      "cell_type": "code",
      "source": [
        "calc.simpson(exp_func, 0, upper_bound,10)"
      ],
      "metadata": {
        "colab": {
          "base_uri": "https://localhost:8080/"
        },
        "id": "nhut3H25xYKx",
        "outputId": "f9f3fd7e-73cd-4c5e-9552-7cd8f4325199"
      },
      "execution_count": 33,
      "outputs": [
        {
          "output_type": "execute_result",
          "data": {
            "text/plain": [
              "7.264297481368504"
            ]
          },
          "metadata": {},
          "execution_count": 33
        }
      ]
    },
    {
      "cell_type": "code",
      "source": [],
      "metadata": {
        "id": "tyQ8zxXu37HG"
      },
      "execution_count": null,
      "outputs": []
    }
  ]
}